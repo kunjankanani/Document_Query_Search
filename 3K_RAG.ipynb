{
  "nbformat": 4,
  "nbformat_minor": 0,
  "metadata": {
    "colab": {
      "provenance": [],
      "gpuType": "T4"
    },
    "kernelspec": {
      "name": "python3",
      "display_name": "Python 3"
    },
    "language_info": {
      "name": "python"
    },
    "accelerator": "GPU"
  },
  "cells": [
    {
      "cell_type": "code",
      "source": [
        "!git clone https://github.com/kunjankanani/Document_Query_Search.git",
        "%cd Document_Query_Search"
      ],
      "metadata": {
        "id": "212hm9hG-zS-"
      },
      "execution_count": null,
      "outputs": []
    },
    {
      "cell_type": "code",
      "source": [
        "!pip install -r requirements.txt"
      ],
      "metadata": {
        "id": "EAFloP6H_24h"
      },
      "execution_count": null,
      "outputs": []
    },
 {
      "cell_type": "markdown",
      "source": [
        "**After Packages installed you see the RESTART SESSION button**\n",
        "\n",
        "**Then Click on RESTART SESSION and click Yes & wait few second**"
      ],
      "metadata": {
        "id": "B8NamirqoSIR"
      }
    },
    {
      "cell_type": "code",
      "source": [
        "!CMAKE_ARGS=\"-DLLAMA_CUBLAS=on\" FORCE_CMAKE=1 pip install --upgrade --force-reinstall llama-cpp-python --no-cache-dir"
      ],
      "metadata": {
        "id": "XKemn61hErDc"
      },
      "execution_count": null,
      "outputs": []
    },
    {
      "cell_type": "code",
      "source": [
        "%cd Document_Query_Search"
      ],
      "metadata": {
        "id": "TxSPkuU2_3HJ"
      },
      "execution_count": null,
      "outputs": []
    },
    {
      "cell_type": "code",
      "source": [
        "!mkdir models\n",
        "%cd models\n",
        "!wget https://huggingface.co/TheBloke/zephyr-7B-beta-GGUF/resolve/main/zephyr-7b-beta.Q5_K_M.gguf"
      ],
      "metadata": {
        "id": "gZOT2HrjFYxd"
      },
      "execution_count": null,
      "outputs": []
    },
    {
      "cell_type": "code",
      "source": [
        "%cd .."
      ],
      "metadata": {
        "id": "NULL2nQXGE9H"
      },
      "execution_count": null,
      "outputs": []
    },
    {
      "cell_type": "markdown",
      "source": [
        "# **Rename ex.env file to .env in Document_Query_Search folder**\n",
        "\n",
        "## **if you not rename the file** ```python load_document.py & python chat_with_document.py``` **give this error** ```Could not load .env file or it is empty. Please check if it exists and is readable.```"
      ],
      "metadata": {
        "id": "B8NamirqoSIR"
      }
    },
    {
      "cell_type": "code",
      "source": [
        "!python load_document.py"
      ],
      "metadata": {
        "id": "tecsXP9n_3QN"
      },
      "execution_count": null,
      "outputs": []
    },
    {
      "cell_type": "code",
      "source": [
        "!python chat_with_document.py"
      ],
      "metadata": {
        "id": "f6cIz-h6A7uz"
      },
      "execution_count": null,
      "outputs": []
    }
  ]
}
